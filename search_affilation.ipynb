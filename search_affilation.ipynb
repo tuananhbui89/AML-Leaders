{
 "cells": [
  {
   "cell_type": "code",
   "execution_count": null,
   "metadata": {},
   "outputs": [
    {
     "ename": "",
     "evalue": "",
     "output_type": "error",
     "traceback": [
      "\u001b[1;31mRunning cells with 'tf2py38' requires the ipykernel package.\n",
      "\u001b[1;31mRun the following command to install 'ipykernel' into the Python environment. \n",
      "\u001b[1;31mCommand: 'conda install -n tf2py38 ipykernel --update-deps --force-reinstall'"
     ]
    }
   ],
   "source": [
    "import numpy as np \n",
    "import json\n",
    " \n",
    "# Download the json file from the Carlini's website and put it in the same folder as this file\n",
    "f = open('advex_papers_23_05.json')\n",
    " \n",
    "# returns JSON object as a dictionary\n",
    "data = json.load(f)\n",
    " \n",
    "# Iterating through the json list\n",
    "data_structure = ['pub_date', # <class 'str'> 2022-02-11\n",
    "    'link', # <class 'str'> http://arxiv.org/abs/2202.05687\n",
    "    'title', # <class 'str'> Towards Adversarially Robust Deepfake Detection: An Ensemble Approach. (98%)\n",
    "    'authors', # <class 'list'> ['Ashish Hooda', ' Neal Mangaokar', ' Ryan Feng', ' Kassem Fawaz', ' Somesh Jha', ' Atul Prakash']\n",
    "    'abstract', # <class 'str'>   Detecting deepfakes is an important problem, but recent work has shown that\n",
    "    ]\n",
    "\n",
    "for i, d in enumerate(data):\n",
    "    if i > 0: \n",
    "        continue\n",
    "    for a in d:\n",
    "        print(type(a), a)\n",
    " \n",
    "# Closing file\n",
    "f.close()"
   ]
  },
  {
   "cell_type": "code",
   "execution_count": 2,
   "metadata": {},
   "outputs": [
    {
     "name": "stdout",
     "output_type": "stream",
     "text": [
      "Requirement already satisfied: scholarly in /Users/tbui0018/opt/anaconda3/envs/tf2py38/lib/python3.8/site-packages (1.7.11)\n",
      "Requirement already satisfied: requests[socks] in /Users/tbui0018/opt/anaconda3/envs/tf2py38/lib/python3.8/site-packages (from scholarly) (2.31.0)\n",
      "Requirement already satisfied: deprecated in /Users/tbui0018/opt/anaconda3/envs/tf2py38/lib/python3.8/site-packages (from scholarly) (1.2.14)\n",
      "Requirement already satisfied: typing-extensions in /Users/tbui0018/opt/anaconda3/envs/tf2py38/lib/python3.8/site-packages (from scholarly) (4.6.3)\n",
      "Requirement already satisfied: free-proxy in /Users/tbui0018/opt/anaconda3/envs/tf2py38/lib/python3.8/site-packages (from scholarly) (1.1.1)\n",
      "Requirement already satisfied: fake-useragent in /Users/tbui0018/opt/anaconda3/envs/tf2py38/lib/python3.8/site-packages (from scholarly) (1.1.3)\n",
      "Requirement already satisfied: python-dotenv in /Users/tbui0018/opt/anaconda3/envs/tf2py38/lib/python3.8/site-packages (from scholarly) (1.0.0)\n",
      "Requirement already satisfied: beautifulsoup4 in /Users/tbui0018/opt/anaconda3/envs/tf2py38/lib/python3.8/site-packages (from scholarly) (4.12.2)\n",
      "Requirement already satisfied: httpx in /Users/tbui0018/opt/anaconda3/envs/tf2py38/lib/python3.8/site-packages (from scholarly) (0.24.1)\n",
      "Requirement already satisfied: selenium in /Users/tbui0018/opt/anaconda3/envs/tf2py38/lib/python3.8/site-packages (from scholarly) (4.9.1)\n",
      "Requirement already satisfied: arrow in /Users/tbui0018/opt/anaconda3/envs/tf2py38/lib/python3.8/site-packages (from scholarly) (1.2.3)\n",
      "Requirement already satisfied: bibtexparser in /Users/tbui0018/opt/anaconda3/envs/tf2py38/lib/python3.8/site-packages (from scholarly) (1.4.0)\n",
      "Requirement already satisfied: sphinx-rtd-theme in /Users/tbui0018/opt/anaconda3/envs/tf2py38/lib/python3.8/site-packages (from scholarly) (1.2.1)\n",
      "Requirement already satisfied: python-dateutil>=2.7.0 in /Users/tbui0018/opt/anaconda3/envs/tf2py38/lib/python3.8/site-packages (from arrow->scholarly) (2.8.2)\n",
      "Requirement already satisfied: six>=1.5 in /Users/tbui0018/opt/anaconda3/envs/tf2py38/lib/python3.8/site-packages (from python-dateutil>=2.7.0->arrow->scholarly) (1.16.0)\n",
      "Requirement already satisfied: soupsieve>1.2 in /Users/tbui0018/opt/anaconda3/envs/tf2py38/lib/python3.8/site-packages (from beautifulsoup4->scholarly) (2.4.1)\n",
      "Requirement already satisfied: pyparsing>=2.0.3 in /Users/tbui0018/opt/anaconda3/envs/tf2py38/lib/python3.8/site-packages (from bibtexparser->scholarly) (3.0.9)\n",
      "Requirement already satisfied: wrapt<2,>=1.10 in /Users/tbui0018/opt/anaconda3/envs/tf2py38/lib/python3.8/site-packages (from deprecated->scholarly) (1.15.0)\n",
      "Requirement already satisfied: importlib-resources>=5.0 in /Users/tbui0018/opt/anaconda3/envs/tf2py38/lib/python3.8/site-packages (from fake-useragent->scholarly) (5.12.0)\n",
      "Requirement already satisfied: zipp>=3.1.0 in /Users/tbui0018/opt/anaconda3/envs/tf2py38/lib/python3.8/site-packages (from importlib-resources>=5.0->fake-useragent->scholarly) (3.15.0)\n",
      "Requirement already satisfied: lxml in /Users/tbui0018/opt/anaconda3/envs/tf2py38/lib/python3.8/site-packages (from free-proxy->scholarly) (4.9.2)\n",
      "Requirement already satisfied: sniffio in /Users/tbui0018/opt/anaconda3/envs/tf2py38/lib/python3.8/site-packages (from httpx->scholarly) (1.3.0)\n",
      "Requirement already satisfied: idna in /Users/tbui0018/opt/anaconda3/envs/tf2py38/lib/python3.8/site-packages (from httpx->scholarly) (3.4)\n",
      "Requirement already satisfied: certifi in /Users/tbui0018/opt/anaconda3/envs/tf2py38/lib/python3.8/site-packages (from httpx->scholarly) (2023.5.7)\n",
      "Requirement already satisfied: httpcore<0.18.0,>=0.15.0 in /Users/tbui0018/opt/anaconda3/envs/tf2py38/lib/python3.8/site-packages (from httpx->scholarly) (0.17.2)\n",
      "Requirement already satisfied: h11<0.15,>=0.13 in /Users/tbui0018/opt/anaconda3/envs/tf2py38/lib/python3.8/site-packages (from httpcore<0.18.0,>=0.15.0->httpx->scholarly) (0.14.0)\n",
      "Requirement already satisfied: anyio<5.0,>=3.0 in /Users/tbui0018/opt/anaconda3/envs/tf2py38/lib/python3.8/site-packages (from httpcore<0.18.0,>=0.15.0->httpx->scholarly) (3.7.0)\n",
      "Requirement already satisfied: exceptiongroup in /Users/tbui0018/opt/anaconda3/envs/tf2py38/lib/python3.8/site-packages (from anyio<5.0,>=3.0->httpcore<0.18.0,>=0.15.0->httpx->scholarly) (1.1.1)\n",
      "Requirement already satisfied: urllib3<3,>=1.21.1 in /Users/tbui0018/opt/anaconda3/envs/tf2py38/lib/python3.8/site-packages (from requests[socks]->scholarly) (2.0.2)\n",
      "Requirement already satisfied: charset-normalizer<4,>=2 in /Users/tbui0018/opt/anaconda3/envs/tf2py38/lib/python3.8/site-packages (from requests[socks]->scholarly) (3.1.0)\n",
      "Requirement already satisfied: PySocks!=1.5.7,>=1.5.6 in /Users/tbui0018/opt/anaconda3/envs/tf2py38/lib/python3.8/site-packages (from requests[socks]->scholarly) (1.7.1)\n",
      "Requirement already satisfied: trio~=0.17 in /Users/tbui0018/opt/anaconda3/envs/tf2py38/lib/python3.8/site-packages (from selenium->scholarly) (0.22.0)\n",
      "Requirement already satisfied: trio-websocket~=0.9 in /Users/tbui0018/opt/anaconda3/envs/tf2py38/lib/python3.8/site-packages (from selenium->scholarly) (0.10.2)\n",
      "Requirement already satisfied: outcome in /Users/tbui0018/opt/anaconda3/envs/tf2py38/lib/python3.8/site-packages (from trio~=0.17->selenium->scholarly) (1.2.0)\n",
      "Requirement already satisfied: sortedcontainers in /Users/tbui0018/opt/anaconda3/envs/tf2py38/lib/python3.8/site-packages (from trio~=0.17->selenium->scholarly) (2.4.0)\n",
      "Requirement already satisfied: async-generator>=1.9 in /Users/tbui0018/opt/anaconda3/envs/tf2py38/lib/python3.8/site-packages (from trio~=0.17->selenium->scholarly) (1.10)\n",
      "Requirement already satisfied: attrs>=19.2.0 in /Users/tbui0018/opt/anaconda3/envs/tf2py38/lib/python3.8/site-packages (from trio~=0.17->selenium->scholarly) (23.1.0)\n",
      "Requirement already satisfied: wsproto>=0.14 in /Users/tbui0018/opt/anaconda3/envs/tf2py38/lib/python3.8/site-packages (from trio-websocket~=0.9->selenium->scholarly) (1.2.0)\n",
      "Requirement already satisfied: sphinx<7,>=1.6 in /Users/tbui0018/opt/anaconda3/envs/tf2py38/lib/python3.8/site-packages (from sphinx-rtd-theme->scholarly) (6.2.1)\n",
      "Requirement already satisfied: docutils<0.19 in /Users/tbui0018/opt/anaconda3/envs/tf2py38/lib/python3.8/site-packages (from sphinx-rtd-theme->scholarly) (0.18.1)\n",
      "Requirement already satisfied: sphinxcontrib-jquery!=3.0.0,>=2.0.0 in /Users/tbui0018/opt/anaconda3/envs/tf2py38/lib/python3.8/site-packages (from sphinx-rtd-theme->scholarly) (4.1)\n",
      "Requirement already satisfied: sphinxcontrib-htmlhelp>=2.0.0 in /Users/tbui0018/opt/anaconda3/envs/tf2py38/lib/python3.8/site-packages (from sphinx<7,>=1.6->sphinx-rtd-theme->scholarly) (2.0.1)\n",
      "Requirement already satisfied: importlib-metadata>=4.8 in /Users/tbui0018/opt/anaconda3/envs/tf2py38/lib/python3.8/site-packages (from sphinx<7,>=1.6->sphinx-rtd-theme->scholarly) (6.6.0)\n",
      "Requirement already satisfied: sphinxcontrib-jsmath in /Users/tbui0018/opt/anaconda3/envs/tf2py38/lib/python3.8/site-packages (from sphinx<7,>=1.6->sphinx-rtd-theme->scholarly) (1.0.1)\n",
      "Requirement already satisfied: snowballstemmer>=2.0 in /Users/tbui0018/opt/anaconda3/envs/tf2py38/lib/python3.8/site-packages (from sphinx<7,>=1.6->sphinx-rtd-theme->scholarly) (2.2.0)\n",
      "Requirement already satisfied: sphinxcontrib-qthelp in /Users/tbui0018/opt/anaconda3/envs/tf2py38/lib/python3.8/site-packages (from sphinx<7,>=1.6->sphinx-rtd-theme->scholarly) (1.0.3)\n",
      "Requirement already satisfied: babel>=2.9 in /Users/tbui0018/opt/anaconda3/envs/tf2py38/lib/python3.8/site-packages (from sphinx<7,>=1.6->sphinx-rtd-theme->scholarly) (2.12.1)\n",
      "Requirement already satisfied: imagesize>=1.3 in /Users/tbui0018/opt/anaconda3/envs/tf2py38/lib/python3.8/site-packages (from sphinx<7,>=1.6->sphinx-rtd-theme->scholarly) (1.4.1)\n",
      "Requirement already satisfied: sphinxcontrib-serializinghtml>=1.1.5 in /Users/tbui0018/opt/anaconda3/envs/tf2py38/lib/python3.8/site-packages (from sphinx<7,>=1.6->sphinx-rtd-theme->scholarly) (1.1.5)\n",
      "Requirement already satisfied: sphinxcontrib-devhelp in /Users/tbui0018/opt/anaconda3/envs/tf2py38/lib/python3.8/site-packages (from sphinx<7,>=1.6->sphinx-rtd-theme->scholarly) (1.0.2)\n",
      "Requirement already satisfied: alabaster<0.8,>=0.7 in /Users/tbui0018/opt/anaconda3/envs/tf2py38/lib/python3.8/site-packages (from sphinx<7,>=1.6->sphinx-rtd-theme->scholarly) (0.7.13)\n",
      "Requirement already satisfied: sphinxcontrib-applehelp in /Users/tbui0018/opt/anaconda3/envs/tf2py38/lib/python3.8/site-packages (from sphinx<7,>=1.6->sphinx-rtd-theme->scholarly) (1.0.4)\n",
      "Requirement already satisfied: Pygments>=2.13 in /Users/tbui0018/opt/anaconda3/envs/tf2py38/lib/python3.8/site-packages (from sphinx<7,>=1.6->sphinx-rtd-theme->scholarly) (2.15.1)\n",
      "Requirement already satisfied: packaging>=21.0 in /Users/tbui0018/opt/anaconda3/envs/tf2py38/lib/python3.8/site-packages (from sphinx<7,>=1.6->sphinx-rtd-theme->scholarly) (23.1)\n",
      "Requirement already satisfied: Jinja2>=3.0 in /Users/tbui0018/opt/anaconda3/envs/tf2py38/lib/python3.8/site-packages (from sphinx<7,>=1.6->sphinx-rtd-theme->scholarly) (3.1.2)\n",
      "Requirement already satisfied: pytz>=2015.7 in /Users/tbui0018/opt/anaconda3/envs/tf2py38/lib/python3.8/site-packages (from babel>=2.9->sphinx<7,>=1.6->sphinx-rtd-theme->scholarly) (2023.3)\n",
      "Requirement already satisfied: MarkupSafe>=2.0 in /Users/tbui0018/opt/anaconda3/envs/tf2py38/lib/python3.8/site-packages (from Jinja2>=3.0->sphinx<7,>=1.6->sphinx-rtd-theme->scholarly) (2.1.3)\n"
     ]
    }
   ],
   "source": [
    "!pip install scholarly"
   ]
  },
  {
   "cell_type": "code",
   "execution_count": 3,
   "metadata": {},
   "outputs": [
    {
     "ename": "AttributeError",
     "evalue": "module 'scholarly' has no attribute 'search_author'",
     "output_type": "error",
     "traceback": [
      "\u001b[0;31m---------------------------------------------------------------------------\u001b[0m",
      "\u001b[0;31mAttributeError\u001b[0m                            Traceback (most recent call last)",
      "Cell \u001b[0;32mIn[3], line 2\u001b[0m\n\u001b[1;32m      1\u001b[0m \u001b[39mimport\u001b[39;00m \u001b[39mscholarly\u001b[39;00m\n\u001b[0;32m----> 2\u001b[0m search_query \u001b[39m=\u001b[39m scholarly\u001b[39m.\u001b[39;49msearch_author(\u001b[39m'\u001b[39m\u001b[39mMarty Banks, Berkeley\u001b[39m\u001b[39m'\u001b[39m)\n\u001b[1;32m      3\u001b[0m scholarly\u001b[39m.\u001b[39mpprint(\u001b[39mnext\u001b[39m(search_query))\n",
      "\u001b[0;31mAttributeError\u001b[0m: module 'scholarly' has no attribute 'search_author'"
     ]
    }
   ],
   "source": [
    "import scholarly\n",
    "search_query = scholarly.search_author('Marty Banks, Berkeley')\n",
    "scholarly.pprint(next(search_query))"
   ]
  },
  {
   "cell_type": "code",
   "execution_count": null,
   "metadata": {},
   "outputs": [],
   "source": []
  }
 ],
 "metadata": {
  "kernelspec": {
   "display_name": "tf20py37",
   "language": "python",
   "name": "python3"
  },
  "language_info": {
   "codemirror_mode": {
    "name": "ipython",
    "version": 3
   },
   "file_extension": ".py",
   "mimetype": "text/x-python",
   "name": "python",
   "nbconvert_exporter": "python",
   "pygments_lexer": "ipython3",
   "version": "3.8.13"
  },
  "orig_nbformat": 4
 },
 "nbformat": 4,
 "nbformat_minor": 2
}
